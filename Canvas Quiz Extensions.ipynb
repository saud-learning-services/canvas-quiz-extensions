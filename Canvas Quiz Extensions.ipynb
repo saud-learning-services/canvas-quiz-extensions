{
 "cells": [
  {
   "cell_type": "markdown",
   "metadata": {},
   "source": [
    "# Canvas Quiz Extensions\n",
    "**⭐️ To run, go to Kernal and select Restart and Run All**\n",
    "\n",
    "A project that takes input in the form of two CSVs and adds extra time or attempts for students on a list of quizzes.\n",
    "\n",
    "1. User option to download list of quizzes and students in course\n",
    "1. List of students with corresponding extra attempts and time to change are entered in `input/student_input.csv`\n",
    "1. List of quizzes to change for students are entered in `input/quiz_list.csv`\n",
    "1. Terminal will ask for inputs and confirmations\n",
    "1. Errors will be shown when necessary by the interface, and failed attempts will be logged in `/src/log` (a log is generated any time the script is run)\n",
    "\n",
    "## ⚠️ Important Caveats\n",
    "\n",
    "- This script only works with **Canvas Classic Quizzes**\n",
    "- The attempt and time extensions will be overwritten when you run this script (does not add extra attempts or time, replaces them)\n",
    "- The script assumes that you want to extend the time and/or attempts for each student for each quiz listed\n",
    "- We have not tested the behaviour of this script for non-published or past-due quizzes\n"
   ]
  },
  {
   "cell_type": "code",
   "execution_count": null,
   "metadata": {},
   "outputs": [],
   "source": []
  }
 ],
 "metadata": {
  "kernelspec": {
   "display_name": "Python 3",
   "language": "python",
   "name": "python3"
  },
  "language_info": {
   "codemirror_mode": {
    "name": "ipython",
    "version": 3
   },
   "file_extension": ".py",
   "mimetype": "text/x-python",
   "name": "python",
   "nbconvert_exporter": "python",
   "pygments_lexer": "ipython3",
   "version": "3.8.5"
  }
 },
 "nbformat": 4,
 "nbformat_minor": 4
}
