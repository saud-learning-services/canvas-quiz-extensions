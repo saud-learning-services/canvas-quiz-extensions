{
 "cells": [
  {
   "cell_type": "markdown",
   "metadata": {},
   "source": [
    "# Canvas Quiz Extensions Script\n",
    "This is a prototype of the script. More detailed instructions will be added."
   ]
  },
  {
   "cell_type": "markdown",
   "metadata": {},
   "source": [
    "The following instructions can be done by clicking the cell below this one and pressing 'Run'.\n",
    "\n",
    "### 1. Set the url for your instance of canvas\n",
    "\n",
    "In the cell below you need to set the API_URL for your case. \n",
    "For UBC's main instance use \"https://ubc.instructure.com\" (note, this is the same as ubc.canvas.ca).\n",
    "For test use \"https://ubc.test.instructure.com\". For beta use \"https://ubc.beta.instructure.com\".\n",
    "\n",
    "You can copy and paste any one of the below when prompted\n",
    "```\n",
    "https://ubc.instructure.com/\n",
    "https://ubc.test.instructure.com/\n",
    "https://ubc.beta.instructure.com/\n",
    "```\n",
    "\n",
    "### 2. Enter your Token\n",
    "\n",
    "### 3. Follow the Script Prompts (Edit Inputs as needed)\n",
    "\n",
    "### 4. Wait for Completion\n"
   ]
  },
  {
   "cell_type": "markdown",
   "metadata": {},
   "source": [
    "# Script Start"
   ]
  },
  {
   "cell_type": "code",
   "execution_count": null,
   "metadata": {},
   "outputs": [],
   "source": [
    "from src import extend_quiz"
   ]
  },
  {
   "cell_type": "code",
   "execution_count": null,
   "metadata": {},
   "outputs": [],
   "source": []
  }
 ],
 "metadata": {
  "kernelspec": {
   "display_name": "Python 3",
   "language": "python",
   "name": "python3"
  },
  "language_info": {
   "codemirror_mode": {
    "name": "ipython",
    "version": 3
   },
   "file_extension": ".py",
   "mimetype": "text/x-python",
   "name": "python",
   "nbconvert_exporter": "python",
   "pygments_lexer": "ipython3",
   "version": "3.7.1"
  }
 },
 "nbformat": 4,
 "nbformat_minor": 4
}
