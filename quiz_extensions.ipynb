{
 "cells": [
  {
   "cell_type": "markdown",
   "metadata": {},
   "source": [
    "# Canvas Quiz Extensions Script"
   ]
  },
  {
   "cell_type": "markdown",
   "metadata": {},
   "source": [
    "The following instructions can be done by clicking the cell below 'Script Start' and pressing 'Run'.\n",
    "\n",
    "## Steps to Run Script:\n",
    "\n",
    "### 1. Set the url for your instance of canvas\n",
    "\n",
    "In the cell below you need to set the API_URL for your case. \n",
    "For UBC's main instance use \"https://ubc.instructure.com\" (note, this is the same as ubc.canvas.ca).\n",
    "For test use \"https://ubc.test.instructure.com\". For beta use \"https://ubc.beta.instructure.com\".\n",
    "\n",
    "You can copy and paste any one of the below when prompted\n",
    "```\n",
    "https://ubc.instructure.com/\n",
    "https://ubc.test.instructure.com/\n",
    "https://ubc.beta.instructure.com/\n",
    "```\n",
    "\n",
    "### 2. Enter your Token\n",
    "\n",
    "### 3. Follow the Script Prompts (Edit Inputs as needed)\n",
    "\n",
    "#### a.  Enter your Canvas course ID (Found in the URL, e.g. https://canvas.ubc.ca/courses/:course_id)\n",
    "\n",
    "#### b. Script will prompt you whether to download the Quiz List and Student List CSVs for your course (whether or not you do this depends on the scenario):\n",
    "\n",
    "* **Running the Script for the First Time:** You have to download both. You will find both CSVs in ./src/input folder\n",
    "* **Running Again:** You can download both, one of them, or none depending on which you choose to edit. \n",
    "    * **WARNING**: Running the script again will overwrite the extensions for any students listed in student_input.csv for ALL quizzes listed in quiz_input.csv\n",
    "\n",
    "#### c. Edit the CSV inputs (student_input.csv and quiz_input.csv) under **/src/input**, then confirm inputs to run script.\n",
    "\n",
    "* **If you are running the script for the first time**:  \n",
    "\n",
    "    1. You need to edit the student_input.csv and quiz_input.csv for it to run. By default, student_input.csv lists all students in your course, and quiz_input.csv lists all quizzes in the course.\n",
    "    2. The script will run on ALL students in student_input.csv (with their corresponding extra_time and extra_attempts, by default they are none) on ALL quizzes listed in quiz_input.csv\n",
    "    3. Edit to only include students and quizzes you want to give extra_time (in minutes) and extra_attempts.  \n",
    "    \n",
    "\n",
    "* **If you are running the script again**:  \n",
    "    * Follow the same steps for running the script for the first time.\n",
    "    * **WARNING**: Running the script again will overwrite the extensions for any students listed in student_input.csv for ALL quizzes listed in quiz_input.csv  \n",
    "      \n",
    "      \n",
    "    \n",
    "* **If you need to have different extensions for the __DIFFERENT__ quizzes for the __SAME__ student, do the following**:\n",
    "    1. Find the desired student in student_input.csv, edit the extra_time and extra_attempts columns\n",
    "    2. Edit the quiz_input.csv to only include the quizzes you desire to add the above extra_time and extra_attempts for\n",
    "    3. Run the Script.\n",
    "    4. Edit the student_input.csv and quiz_input.csv for the other set of extra_time and extra_attempts you wish for a different set of quizzes.\n",
    "    5. Run the script again.\n",
    "\n",
    "**IMPORTANT NOTE:** It is up to you to ensure that the quizzes in quiz_input.csv are the quizzes you want to change. So please make sure that these quizzes are published and do not have a due date that has passed.\n",
    "\n",
    "### 4. Wait for Completion\n"
   ]
  },
  {
   "cell_type": "markdown",
   "metadata": {},
   "source": [
    "## Script Start"
   ]
  },
  {
   "cell_type": "code",
   "execution_count": null,
   "metadata": {},
   "outputs": [],
   "source": [
    "from src import extend_quiz"
   ]
  },
  {
   "cell_type": "code",
   "execution_count": null,
   "metadata": {},
   "outputs": [],
   "source": []
  }
 ],
 "metadata": {
  "kernelspec": {
   "display_name": "Python 3",
   "language": "python",
   "name": "python3"
  },
  "language_info": {
   "codemirror_mode": {
    "name": "ipython",
    "version": 3
   },
   "file_extension": ".py",
   "mimetype": "text/x-python",
   "name": "python",
   "nbconvert_exporter": "python",
   "pygments_lexer": "ipython3",
   "version": "3.7.1"
  }
 },
 "nbformat": 4,
 "nbformat_minor": 4
}
